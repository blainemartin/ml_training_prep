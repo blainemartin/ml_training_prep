{
  "nbformat": 4,
  "nbformat_minor": 0,
  "metadata": {
    "colab": {
      "private_outputs": true,
      "provenance": [],
      "gpuType": "T4",
      "include_colab_link": true
    },
    "kernelspec": {
      "name": "python3",
      "display_name": "Python 3"
    },
    "language_info": {
      "name": "python"
    },
    "accelerator": "GPU"
  },
  "cells": [
    {
      "cell_type": "markdown",
      "metadata": {
        "id": "view-in-github",
        "colab_type": "text"
      },
      "source": [
        "<a href=\"https://colab.research.google.com/github/blainemartin/ml_training_prep/blob/main/MythoMax_Lora_Trainer.ipynb\" target=\"_parent\"><img src=\"https://colab.research.google.com/assets/colab-badge.svg\" alt=\"Open In Colab\"/></a>"
      ]
    },
    {
      "cell_type": "markdown",
      "source": [
        "# MythoMax LLM Trainer\n",
        "\n",
        "This tool configures a text-generation-webui environment with a training dataset\n",
        "prepopulated from Google Drive (from a previous Notebook run). Runs the Web UI with MythoMax model loaded to facilitate Lora creation.\n",
        "\n",
        "Requires A100 GPU\n"
      ],
      "metadata": {
        "id": "MFQl6-FjSYtY"
      }
    },
    {
      "cell_type": "code",
      "source": [
        "#@title 1.0 Keep this tab alive to prevent Colab from disconnecting you { display-mode: \"form\" }\n",
        "\n",
        "#@markdown Press play on the music player that will appear below:\n",
        "%%html\n",
        "<audio src=\"https://oobabooga.github.io/silence.m4a\" controls>"
      ],
      "metadata": {
        "id": "f7TVVj_z4flw"
      },
      "execution_count": null,
      "outputs": []
    },
    {
      "cell_type": "code",
      "execution_count": null,
      "metadata": {
        "id": "23TOba33L4qf"
      },
      "outputs": [],
      "source": [
        "#@title 1.1 GPU Check { display-mode: \"form\" }\n",
        "\n",
        "\n",
        "gpu_info = !nvidia-smi\n",
        "gpu_info = '\\n'.join(gpu_info)\n",
        "if gpu_info.find('failed') >= 0:\n",
        "  print('Not connected to a GPU')\n",
        "else:\n",
        "  print(gpu_info)"
      ]
    },
    {
      "cell_type": "code",
      "source": [
        "#@title 1.2 Memory Check { display-mode: \"form\" }\n",
        "\n",
        "\n",
        "from psutil import virtual_memory\n",
        "ram_gb = virtual_memory().total / 1e9\n",
        "print('Your runtime has {:.1f} gigabytes of available RAM\\n'.format(ram_gb))\n",
        "\n",
        "if ram_gb < 20:\n",
        "  print('Not using a high-RAM runtime')\n",
        "else:\n",
        "  print('You are using a high-RAM runtime!')"
      ],
      "metadata": {
        "id": "zSg7o4V5DBL8"
      },
      "execution_count": null,
      "outputs": []
    },
    {
      "cell_type": "code",
      "source": [
        "# @title 2.0 Prep File Structure\n",
        "\n",
        "%cd /content\n",
        "!git clone https://github.com/oobabooga/text-generation-webui\n",
        "#!git clone https://github.com/camenduru/text-generation-webui\n",
        "\n",
        "from google.colab import drive\n",
        "import zipfile\n",
        "\n",
        "#Mount Google Drive\n",
        "drive.mount('/content/drive')\n",
        "\n",
        "# specify the zip file name\n",
        "file_name = \"/content/drive/MyDrive/ST_ML_Training_Set.zip\" # @param {type:\"string\"}\n",
        "\n",
        "# opening the zip file in READ mode\n",
        "with zipfile.ZipFile(file_name, 'r') as zip_ref:\n",
        "    # extracting all the files\n",
        "    print('Extracting all the files now...')\n",
        "    zip_ref.extractall('/content/text-generation-webui/training/datasets')\n",
        "    print('Done!')"
      ],
      "metadata": {
        "id": "QiAYG3yGQaFx"
      },
      "execution_count": null,
      "outputs": []
    },
    {
      "cell_type": "code",
      "source": [
        "#@title 3.0 Install & Run Text Generation WebUI\n",
        "\n",
        "%cd /content\n",
        "#@markdown If unsure about the branch, write \"main\" or leave it blank.\n",
        "import torch\n",
        "from pathlib import Path\n",
        "if Path.cwd().name != 'text-generation-webui':\n",
        "  print(\"Installing the webui...\")\n",
        "  %cd text-generation-webui\n",
        "\n",
        "  torver = torch.__version__\n",
        "  print(f\"TORCH: {torver}\")\n",
        "  is_cuda118 = '+cu118' in torver  # 2.1.0+cu118\n",
        "\n",
        "  textgen_requirements = open('requirements.txt').read().splitlines()\n",
        "  if is_cuda118:\n",
        "      textgen_requirements = [req.replace('+cu121', '+cu118').replace('+cu122', '+cu118') for req in textgen_requirements]\n",
        "  with open('temp_requirements.txt', 'w') as file:\n",
        "      file.write('\\n'.join(textgen_requirements))\n",
        "\n",
        "  !pip install -r extensions/openai/requirements.txt --upgrade\n",
        "  !pip install -r temp_requirements.txt --upgrade\n",
        "  !pip install chromadb\n",
        "\n",
        "  print(\"\\033[1;32;1m\\n --> If you see a warning about \\\"previously imported packages\\\", just ignore it.\\033[0;37;0m\")\n",
        "  print(\"\\033[1;32;1m\\n --> There is no need to restart the runtime.\\n\\033[0;37;0m\")\n",
        "\n",
        "  try:\n",
        "    import flash_attn\n",
        "  except:\n",
        "    !pip uninstall -y flash_attn\n",
        "\n",
        "# Parameters\n",
        "model_url = \"https://huggingface.co/Gryphe/MythoMax-L2-13b\" #@param {type:\"string\"}\n",
        "branch = \"main\" #@param {type:\"string\"}\n",
        "command_line_flags = \"--use_double_quant --extension superboogav2 Training_PRO --gpu-memory 39\" #@param {type:\"string\"}\n",
        "api = False #@param {type:\"boolean\"}\n",
        "\n",
        "if api:\n",
        "  for param in ['--api', '--public-api']:\n",
        "    if param not in command_line_flags:\n",
        "      command_line_flags += f\" {param}\"\n",
        "\n",
        "model_url = model_url.strip()\n",
        "if model_url != \"\":\n",
        "    if not model_url.startswith('http'):\n",
        "        model_url = 'https://huggingface.co/' + model_url\n",
        "\n",
        "    # Download the model\n",
        "    url_parts = model_url.strip('/').strip().split('/')\n",
        "    output_folder = f\"{url_parts[-2]}_{url_parts[-1]}\"\n",
        "    branch = branch.strip('\"\\' ')\n",
        "    if branch.strip() not in ['', 'main']:\n",
        "        output_folder += f\"_{branch}\"\n",
        "        !python download-model.py {model_url} --branch {branch}\n",
        "    else:\n",
        "        !python download-model.py {model_url}\n",
        "else:\n",
        "    output_folder = \"\"\n",
        "\n",
        "# Start the web UI\n",
        "cmd = f\"python server.py --share\"\n",
        "if output_folder != \"\":\n",
        "    cmd += f\" --model {output_folder}\"\n",
        "cmd += f\" {command_line_flags}\"\n",
        "print(cmd)\n",
        "!$cmd\n",
        "\n",
        "\"\"\"\n",
        "%cd /content\n",
        "!apt-get -y install -qq aria2\n",
        "%cd /content/text-generation-webui\n",
        "!pip install -q -r requirements.txt\n",
        "\n",
        "!aria2c --console-log-level=error -c -x 16 -s 16 -k 1M https://huggingface.co/4bit/MythoMax-L2-13B-GPTQ/raw/main/added_tokens.json -d /content/text-generation-webui/models/MythoMax-L2-13B-GPTQ -o added_tokens.json\n",
        "!aria2c --console-log-level=error -c -x 16 -s 16 -k 1M https://huggingface.co/4bit/MythoMax-L2-13B-GPTQ/raw/main/config.json -d /content/text-generation-webui/models/MythoMax-L2-13B-GPTQ -o config.json\n",
        "!aria2c --console-log-level=error -c -x 16 -s 16 -k 1M https://huggingface.co/4bit/MythoMax-L2-13B-GPTQ/raw/main/generation_config.json -d /content/text-generation-webui/models/MythoMax-L2-13B-GPTQ -o generation_config.json\n",
        "!aria2c --console-log-level=error -c -x 16 -s 16 -k 1M https://huggingface.co/4bit/MythoMax-L2-13B-GPTQ/resolve/main/model.safetensors -d /content/text-generation-webui/models/MythoMax-L2-13B-GPTQ -o model.safetensors\n",
        "!aria2c --console-log-level=error -c -x 16 -s 16 -k 1M https://huggingface.co/4bit/MythoMax-L2-13B-GPTQ/raw/main/quantize_config.json -d /content/text-generation-webui/models/MythoMax-L2-13B-GPTQ -o quantize_config.json\n",
        "!aria2c --console-log-level=error -c -x 16 -s 16 -k 1M https://huggingface.co/4bit/MythoMax-L2-13B-GPTQ/raw/main/special_tokens_map.json -d /content/text-generation-webui/models/MythoMax-L2-13B-GPTQ -o special_tokens_map.json\n",
        "!aria2c --console-log-level=error -c -x 16 -s 16 -k 1M https://huggingface.co/4bit/MythoMax-L2-13B-GPTQ/raw/main/tokenizer.json -d /content/text-generation-webui/models/MythoMax-L2-13B-GPTQ -o tokenizer.json\n",
        "!aria2c --console-log-level=error -c -x 16 -s 16 -k 1M https://huggingface.co/4bit/MythoMax-L2-13B-GPTQ/resolve/main/tokenizer.model -d /content/text-generation-webui/models/MythoMax-L2-13B-GPTQ -o tokenizer.model\n",
        "!aria2c --console-log-level=error -c -x 16 -s 16 -k 1M https://huggingface.co/4bit/MythoMax-L2-13B-GPTQ/raw/main/tokenizer_config.json -d /content/text-generation-webui/models/MythoMax-L2-13B-GPTQ -o tokenizer_config.json\n",
        "\n",
        "!echo \"dark_theme: true\" > /content/settings.yaml\n",
        "!echo \"chat_style: wpp\" >> /content/settings.yaml\n",
        "!echo \"mode: chat\" >> /content/settings.yaml\n",
        "!echo \"preset: Midnight Enigma\" >> /content/settings.yaml\n",
        "\n",
        "%cd /content/text-generation-webui\n",
        "!python server.py --share --settings /content/settings.yaml --model /content/text-generation-webui/models/MythoMax-L2-13B-GPTQ\n",
        "\"\"\""
      ],
      "metadata": {
        "id": "2QOkAYXYr0ZA",
        "cellView": "form"
      },
      "execution_count": null,
      "outputs": []
    }
  ]
}